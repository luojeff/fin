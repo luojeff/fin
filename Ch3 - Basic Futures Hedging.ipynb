{
 "cells": [
  {
   "cell_type": "markdown",
   "metadata": {},
   "source": [
    "# (Static) Hedging Using Futures"
   ]
  },
  {
   "cell_type": "markdown",
   "metadata": {},
   "source": [
    "Objective: Take a position (using the futures market) to neutralize risk as far as possible.\n",
    "\n",
    "A *perfect hedge* completely eliminates risk, though they are rare."
   ]
  },
  {
   "cell_type": "markdown",
   "metadata": {},
   "source": [
    "### Short Hedge\n",
    "\n",
    "Involves a short position in a futures contract.\n",
    "\n",
    "Appropriate when you *already own an asset that you expect to sell in the future*. "
   ]
  },
  {
   "cell_type": "markdown",
   "metadata": {},
   "source": [
    "### Long Hedge\n",
    "\n",
    "Involves a long position in a futures contract.\n",
    "\n",
    "Appropriate when you know you will have to *purchase an asset in the future, and want to lock in a price now*. "
   ]
  },
  {
   "cell_type": "markdown",
   "metadata": {},
   "source": [
    "### Why Hedge?\n",
    "\n",
    "Companies can hedge risks that they are aware of and focus on their main activities, so that they can avoid unpleasant surprises.\n",
    "\n",
    "It's cheaper for the company than shareholders since there are transaction costs and commissions."
   ]
  },
  {
   "cell_type": "code",
   "execution_count": null,
   "metadata": {},
   "outputs": [],
   "source": []
  },
  {
   "cell_type": "code",
   "execution_count": null,
   "metadata": {},
   "outputs": [],
   "source": []
  }
 ],
 "metadata": {
  "kernelspec": {
   "display_name": "Python 3",
   "language": "python",
   "name": "python3"
  },
  "language_info": {
   "codemirror_mode": {
    "name": "ipython",
    "version": 3
   },
   "file_extension": ".py",
   "mimetype": "text/x-python",
   "name": "python",
   "nbconvert_exporter": "python",
   "pygments_lexer": "ipython3",
   "version": "3.6.8"
  }
 },
 "nbformat": 4,
 "nbformat_minor": 4
}
