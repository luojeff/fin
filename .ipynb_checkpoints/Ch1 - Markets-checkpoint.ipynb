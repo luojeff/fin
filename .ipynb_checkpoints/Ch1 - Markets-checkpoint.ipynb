{
 "cells": [
  {
   "cell_type": "markdown",
   "metadata": {},
   "source": [
    "# Markets\n",
    "\n",
    "**Exchange-traded markets, electronic markets**\n",
    "\n",
    "When two traders have agreed on a trade, it's handled by the *exchange clearing house*. The clearing house takes care of credit risk by requiring the deposit of margins, so investors don't have to worry about it.\n",
    "\n",
    "**Over-the-counter markets**\n",
    "\n",
    "Either clear the trade bilaterally or present it to a *central counterparty* (CCP).\n",
    "Standardized OTC derivatives must be whenever possible traded on *swap execution facilities*"
   ]
  },
  {
   "cell_type": "markdown",
   "metadata": {},
   "source": [
    "### Contracts\n",
    "1. Spot contract\n",
    "2. Forward contract\n",
    "3. Futures contract\n",
    "4. Options contract"
   ]
  },
  {
   "cell_type": "markdown",
   "metadata": {},
   "source": [
    "### Forward Contract\n",
    "\n",
    "Agreement to buy or sell an asset at a <u>specific future time for a specific price</u>, and is traded over the OTC market.\n",
    "\n",
    "One party takes on a *long position*, whereas the other takes a *short position*. \n",
    "\n",
    "Payoff from long position is $S_T - K$\n",
    "- $S_T$: Spot price of asset at point of maturity in contract\n",
    "- $K$: Delivery price\n",
    "\n",
    "Payoff from short position is $K - S_T$\n",
    "- If positive, it means you delivered at a higher price than the market at maturity"
   ]
  },
  {
   "cell_type": "markdown",
   "metadata": {},
   "source": [
    "### Futures Contract\n",
    "\n",
    "Same as a forward contract except they're traded on an exchange. A contract thus has certain standardized features. The exchange provides mechanism giving the two participating parties a guarantee that the contract will be honored."
   ]
  },
  {
   "cell_type": "markdown",
   "metadata": {},
   "source": [
    "### Options contract\n",
    "\n",
    "Right to have an *option* to buy at a certain price at a certain date in the future."
   ]
  },
  {
   "cell_type": "markdown",
   "metadata": {},
   "source": [
    "### Types of traders\n",
    "1. Hedgers\n",
    "2. Speculators\n",
    "3. Arbitrageurs"
   ]
  }
 ],
 "metadata": {
  "kernelspec": {
   "display_name": "Python 3",
   "language": "python",
   "name": "python3"
  },
  "language_info": {
   "codemirror_mode": {
    "name": "ipython",
    "version": 3
   },
   "file_extension": ".py",
   "mimetype": "text/x-python",
   "name": "python",
   "nbconvert_exporter": "python",
   "pygments_lexer": "ipython3",
   "version": "3.6.8"
  }
 },
 "nbformat": 4,
 "nbformat_minor": 2
}
